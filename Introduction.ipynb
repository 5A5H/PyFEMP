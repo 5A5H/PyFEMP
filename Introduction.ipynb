{
 "metadata": {
  "language_info": {
   "codemirror_mode": {
    "name": "ipython",
    "version": 3
   },
   "file_extension": ".py",
   "mimetype": "text/x-python",
   "name": "python",
   "nbconvert_exporter": "python",
   "pygments_lexer": "ipython3",
   "version": "3.7.6-final"
  },
  "orig_nbformat": 2,
  "kernelspec": {
   "name": "Python 3.7.6 64-bit ('base': conda)",
   "display_name": "Python 3.7.6 64-bit ('base': conda)",
   "metadata": {
    "interpreter": {
     "hash": "9d2d0147b9d751dcfebf31abfc5ac35b5618fe533f30321b0a86e4a83390de4c"
    }
   }
  }
 },
 "nbformat": 4,
 "nbformat_minor": 2,
 "cells": [
  {
   "source": [
    "```math\n",
    "\\boldsymbol{R}(\\boldsymbol{d}) + \\dfrac{\\text{d} \\boldsymbol{R}}{\\text{d} \\boldsymbol{d}} \\, \\Delta \\boldsymbol{d} = \\boldsymbol{0},\n",
    "```\n",
    "introducing an incremental change $`\\Delta \\boldsymbol{d}`$."
   ],
   "cell_type": "markdown",
   "metadata": {}
  },
  {
   "source": [
    "A formula\n",
    "$$ x = {-b \\pm \\sqrt{b^2-4ac} \\over 2a}.$$\n",
    "that changes the world.\n",
    "Of does so inline $ x = {-b \\pm \\sqrt{b^2-4ac} \\over 2a}.$"
   ],
   "cell_type": "markdown",
   "metadata": {}
  },
  {
   "source": [
    "<mrow>\n",
    "  <mi>x</mi>\n",
    "  <mo>=</mo>\n",
    "  <mfrac>\n",
    "    <mrow>\n",
    "      <mrow>\n",
    "        <mo>-</mo>\n",
    "        <mi>b</mi>\n",
    "      </mrow>\n",
    "      <mo>&#xB1;<!--PLUS-MINUS SIGN--></mo>\n",
    "      <msqrt>\n",
    "        <mrow>\n",
    "          <msup>\n",
    "            <mi>b</mi>\n",
    "            <mn>2</mn>\n",
    "          </msup>\n",
    "          <mo>-</mo>\n",
    "          <mrow>\n",
    "            <mn>4</mn>\n",
    "            <mo>&#x2062;<!--INVISIBLE TIMES--></mo>\n",
    "            <mi>a</mi>\n",
    "            <mo>&#x2062;<!--INVISIBLE TIMES--></mo>\n",
    "            <mi>c</mi>\n",
    "          </mrow>\n",
    "        </mrow>\n",
    "      </msqrt>\n",
    "    </mrow>\n",
    "    <mrow>\n",
    "      <mn>2</mn>\n",
    "      <mo>&#x2062;<!--INVISIBLE TIMES--></mo>\n",
    "      <mi>a</mi>\n",
    "    </mrow>\n",
    "  </mfrac>\n",
    "</mrow>"
   ],
   "cell_type": "markdown",
   "metadata": {}
  },
  {
   "cell_type": "code",
   "execution_count": null,
   "metadata": {},
   "outputs": [],
   "source": []
  }
 ]
}