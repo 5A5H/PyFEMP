{
 "metadata": {
  "language_info": {
   "codemirror_mode": {
    "name": "ipython",
    "version": 3
   },
   "file_extension": ".py",
   "mimetype": "text/x-python",
   "name": "python",
   "nbconvert_exporter": "python",
   "pygments_lexer": "ipython3",
   "version": 3
  },
  "orig_nbformat": 2
 },
 "nbformat": 4,
 "nbformat_minor": 2,
 "cells": [
  {
   "source": [
    "```math\n",
    "\\boldsymbol{R}(\\boldsymbol{d}) + \\dfrac{\\text{d} \\boldsymbol{R}}{\\text{d} \\boldsymbol{d}} \\, \\Delta \\boldsymbol{d} = \\boldsymbol{0},\n",
    "```\n",
    "introducing an incremental change $`\\Delta \\boldsymbol{d}`$."
   ],
   "cell_type": "markdown",
   "metadata": {}
  },
  {
   "source": [
    "A formula\n",
    "$$ x = {-b \\pm \\sqrt{b^2-4ac} \\over 2a}.$$\n",
    "that changes the world.\n",
    "Of does so inline $ x = {-b \\pm \\sqrt{b^2-4ac} \\over 2a}.$"
   ],
   "cell_type": "markdown",
   "metadata": {}
  },
  {
   "cell_type": "code",
   "execution_count": null,
   "metadata": {},
   "outputs": [],
   "source": []
  }
 ]
}